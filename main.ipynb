{
 "cells": [
  {
   "cell_type": "code",
   "execution_count": 12,
   "metadata": {},
   "outputs": [],
   "source": [
    "import pandas as pd\n",
    "import random"
   ]
  },
  {
   "cell_type": "code",
   "execution_count": 13,
   "metadata": {},
   "outputs": [],
   "source": [
    "main = pd.read_excel('Book1.xlsx')"
   ]
  },
  {
   "cell_type": "code",
   "execution_count": 14,
   "metadata": {},
   "outputs": [
    {
     "data": {
      "text/html": [
       "<div>\n",
       "<style scoped>\n",
       "    .dataframe tbody tr th:only-of-type {\n",
       "        vertical-align: middle;\n",
       "    }\n",
       "\n",
       "    .dataframe tbody tr th {\n",
       "        vertical-align: top;\n",
       "    }\n",
       "\n",
       "    .dataframe thead th {\n",
       "        text-align: right;\n",
       "    }\n",
       "</style>\n",
       "<table border=\"1\" class=\"dataframe\">\n",
       "  <thead>\n",
       "    <tr style=\"text-align: right;\">\n",
       "      <th></th>\n",
       "      <th>Name</th>\n",
       "      <th>Title</th>\n",
       "      <th>Company</th>\n",
       "      <th>Type</th>\n",
       "      <th>Strength of Relationship</th>\n",
       "      <th>Phone</th>\n",
       "      <th>Email</th>\n",
       "      <th>Notes</th>\n",
       "    </tr>\n",
       "  </thead>\n",
       "  <tbody>\n",
       "    <tr>\n",
       "      <th>0</th>\n",
       "      <td>Jonathan Ting</td>\n",
       "      <td>Senior Associate</td>\n",
       "      <td>Industry Ventures</td>\n",
       "      <td>Later-Stage VC</td>\n",
       "      <td>Professional</td>\n",
       "      <td>1.510331e+10</td>\n",
       "      <td>jonathan@industryventures.com</td>\n",
       "      <td>NaN</td>\n",
       "    </tr>\n",
       "    <tr>\n",
       "      <th>1</th>\n",
       "      <td>Zane Veater</td>\n",
       "      <td>Investor</td>\n",
       "      <td>Section Partners</td>\n",
       "      <td>Secondary</td>\n",
       "      <td>Professional</td>\n",
       "      <td>1.559760e+10</td>\n",
       "      <td>zane@sectionpartners.com</td>\n",
       "      <td>NaN</td>\n",
       "    </tr>\n",
       "    <tr>\n",
       "      <th>2</th>\n",
       "      <td>Ken Sawyer</td>\n",
       "      <td>Managing Principal</td>\n",
       "      <td>Saints Capital</td>\n",
       "      <td>Secondary</td>\n",
       "      <td>Professional</td>\n",
       "      <td>NaN</td>\n",
       "      <td>ken@saintscapital.com</td>\n",
       "      <td>NaN</td>\n",
       "    </tr>\n",
       "    <tr>\n",
       "      <th>3</th>\n",
       "      <td>Dan Kennedy</td>\n",
       "      <td>Partner</td>\n",
       "      <td>Akkadian</td>\n",
       "      <td>Secondary</td>\n",
       "      <td>Professional</td>\n",
       "      <td>NaN</td>\n",
       "      <td>dan@akkadian.vc</td>\n",
       "      <td>NaN</td>\n",
       "    </tr>\n",
       "    <tr>\n",
       "      <th>4</th>\n",
       "      <td>Catherine Williams</td>\n",
       "      <td>Principal</td>\n",
       "      <td>Dundee Ventures</td>\n",
       "      <td>Early-Stage VC</td>\n",
       "      <td>Warm</td>\n",
       "      <td>NaN</td>\n",
       "      <td>catherine@dundeevc.com</td>\n",
       "      <td>NaN</td>\n",
       "    </tr>\n",
       "  </tbody>\n",
       "</table>\n",
       "</div>"
      ],
      "text/plain": [
       "                 Name               Title            Company            Type  \\\n",
       "0       Jonathan Ting    Senior Associate  Industry Ventures  Later-Stage VC   \n",
       "1         Zane Veater            Investor   Section Partners       Secondary   \n",
       "2          Ken Sawyer  Managing Principal     Saints Capital       Secondary   \n",
       "3         Dan Kennedy             Partner           Akkadian       Secondary   \n",
       "4  Catherine Williams           Principal    Dundee Ventures  Early-Stage VC   \n",
       "\n",
       "  Strength of Relationship         Phone                          Email Notes  \n",
       "0             Professional  1.510331e+10  jonathan@industryventures.com   NaN  \n",
       "1             Professional  1.559760e+10       zane@sectionpartners.com   NaN  \n",
       "2             Professional           NaN          ken@saintscapital.com   NaN  \n",
       "3             Professional           NaN                dan@akkadian.vc   NaN  \n",
       "4                     Warm           NaN         catherine@dundeevc.com   NaN  "
      ]
     },
     "execution_count": 14,
     "metadata": {},
     "output_type": "execute_result"
    }
   ],
   "source": [
    "main.head()"
   ]
  },
  {
   "cell_type": "code",
   "execution_count": 15,
   "metadata": {},
   "outputs": [
    {
     "data": {
      "text/plain": [
       "2"
      ]
     },
     "execution_count": 15,
     "metadata": {},
     "output_type": "execute_result"
    }
   ],
   "source": [
    "int_num = random.randint(1,4)\n",
    "int_num"
   ]
  },
  {
   "cell_type": "code",
   "execution_count": 16,
   "metadata": {},
   "outputs": [],
   "source": [
    "email = main[main['Name'] == 'Jonathan Ting']"
   ]
  },
  {
   "cell_type": "code",
   "execution_count": 8,
   "metadata": {},
   "outputs": [],
   "source": [
    "def email_set(name):\n",
    "    email = main[main['Name'] == {name}]\n",
    "    if int_num == 1:\n",
    "        print(f\"Hope all is well! I wanted to introduce you to {name} with [Company Name] who is an [title] on the team. [Company Name] is a [company type] that [description]. I’ll let you two take it from here. \")\n",
    "    elif int_num == 2:\n",
    "        pass\n",
    "    elif int_num == 3:\n",
    "        pass\n",
    "    else:\n",
    "        pass\n",
    "    "
   ]
  }
 ],
 "metadata": {
  "kernelspec": {
   "display_name": "Python 3",
   "language": "python",
   "name": "python3"
  },
  "language_info": {
   "codemirror_mode": {
    "name": "ipython",
    "version": 3
   },
   "file_extension": ".py",
   "mimetype": "text/x-python",
   "name": "python",
   "nbconvert_exporter": "python",
   "pygments_lexer": "ipython3",
   "version": "3.10.6"
  },
  "orig_nbformat": 4
 },
 "nbformat": 4,
 "nbformat_minor": 2
}
